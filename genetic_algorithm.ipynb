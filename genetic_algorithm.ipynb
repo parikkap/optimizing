{
 "cells": [
  {
   "cell_type": "code",
   "execution_count": 1,
   "metadata": {},
   "outputs": [],
   "source": [
    "import numpy as np\n",
    "from random import randint\n",
    "import pandas as pd"
   ]
  },
  {
   "cell_type": "code",
   "execution_count": 8,
   "metadata": {},
   "outputs": [],
   "source": [
    "def weightedRandom(row, tpath):\n",
    "    x = randint(0, (tpath*25))\n",
    "    n = ((tpath*25)-row['fitness'])*1.2\n",
    "    if x <= n:\n",
    "        return 1\n",
    "    else:\n",
    "        return 0\n",
    "\n",
    "def evalFit(df, path):\n",
    "    finalFitness = 0\n",
    "    path = path.values[0]\n",
    "    for i, val in enumerate(path):\n",
    "        if i < len(path)-1:\n",
    "            currentRow = df.loc[(df['from_id'] == path[i]) & (df['to_id'] == path[i+1])]\n",
    "            print(currentRow['car_m_t'].tolist()[0])\n",
    "            finalFitness += currentRow['car_m_t'].tolist()[0]\n",
    "    return finalFitness\n",
    "\n",
    "\n",
    "def parentSelection(df, n, path):\n",
    "    df['pass'] = df.apply(weightedRandom,tpath=len(path), axis=1)\n",
    "    if(len(df['sequence']) > n):\n",
    "        val = df.iloc[0].fitness\n",
    "        df = df[~(df['fitness'] >= val+10)]\n",
    "    if(len(df) > 1):\n",
    "        df = df.drop_duplicates(subset=['sequence'])\n",
    "    df = df.sort_values(by=['fitness']).reset_index(drop=True)\n",
    "    return df\n",
    "\n",
    "def selectPassed(df):\n",
    "    df = df.loc[df['pass'] == 1]\n",
    "    n1, n2 = randint(0, len(df['sequence'])-1), randint(0, len(df['sequence'])-1)\n",
    "    pass1 = df['sequence'].iloc[n1]\n",
    "    pass2 = df['sequence'].iloc[n2]\n",
    "    return pass1, pass2\n",
    "\n",
    "def crossover(df, iValList):\n",
    "    \n",
    "    df = df.reset_index(drop=True)\n",
    "    return df\n",
    "\n",
    "def mutation(df, iValList):\n",
    "    \n",
    "    df = df.reset_index(drop=True)\n",
    "    return df\n",
    "\n",
    "def GA(iValDF, pathList):\n",
    "    populationSize = 20\n",
    "    resultsOverTimeList = []\n",
    "    df = pd.DataFrame(columns=['sequence', 'fitness'])\n",
    "    tempfit = 0\n",
    "    df['sequence'] = [pathList]\n",
    "    df['fitness'] = evalFit(iValDF, df['sequence'])\n",
    "    df = parentSelection(df, populationSize, path)\n",
    "    print(\"Starting iterations... Randomized population best fitness:\")\n",
    "    print(df.loc[0])\n",
    "    for i in np.arange(100):\n",
    "        df = crossover(df, iValDF)\n",
    "        df = parentSelection(df, populationSize,path)\n",
    "        if i%100 == 0 and i != 0:\n",
    "            if tempfit == df['fitness'].iloc[0]:\n",
    "                df = mutation(df, iValDF)\n",
    "            else:\n",
    "                tempfit = df['fitness'].iloc[0]\n",
    "            #print(i, \" iterations completed. Current best fitness:\")\n",
    "            #print(df.loc[0])\n",
    "        resultsOverTimeList.append(df['fitness'].loc[0])\n",
    "    print(\"All iterations completed. Best fitness achieved:\")\n",
    "    print(df.loc[0])\n",
    "    return df, resultsOverTimeList"
   ]
  },
  {
   "cell_type": "code",
   "execution_count": null,
   "metadata": {},
   "outputs": [],
   "source": []
  },
  {
   "cell_type": "code",
   "execution_count": null,
   "metadata": {},
   "outputs": [],
   "source": []
  }
 ],
 "metadata": {
  "kernelspec": {
   "display_name": "Python 3",
   "language": "python",
   "name": "python3"
  },
  "language_info": {
   "codemirror_mode": {
    "name": "ipython",
    "version": 3
   },
   "file_extension": ".py",
   "mimetype": "text/x-python",
   "name": "python",
   "nbconvert_exporter": "python",
   "pygments_lexer": "ipython3",
   "version": "3.7.0"
  }
 },
 "nbformat": 4,
 "nbformat_minor": 2
}
